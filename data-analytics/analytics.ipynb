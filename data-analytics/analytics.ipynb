{
 "cells": [
  {
   "cell_type": "code",
   "id": "initial_id",
   "metadata": {
    "collapsed": true,
    "ExecuteTime": {
     "end_time": "2025-07-02T19:39:25.833060Z",
     "start_time": "2025-07-02T19:39:25.817687Z"
    }
   },
   "source": [
    "import pandas as pd\n",
    "import matplotlib.pyplot as plt\n",
    "import numpy as np\n",
    "\n",
    "from data_proc import access_log_to_df"
   ],
   "outputs": [],
   "execution_count": 4
  },
  {
   "metadata": {
    "ExecuteTime": {
     "end_time": "2025-07-02T19:49:33.199216Z",
     "start_time": "2025-07-02T19:42:34.962650Z"
    }
   },
   "cell_type": "code",
   "source": [
    "# load in dataframe from file\n",
    "df0 = access_log_to_df(\"../access_logs/access_log\")\n",
    "\n",
    "# Get all unique dates\n",
    "dates = set(df0['date'])\n",
    "print(dates)\n"
   ],
   "id": "35603d9e29dd78e0",
   "outputs": [
    {
     "ename": "KeyboardInterrupt",
     "evalue": "",
     "output_type": "error",
     "traceback": [
      "\u001B[31m---------------------------------------------------------------------------\u001B[39m",
      "\u001B[31mKeyboardInterrupt\u001B[39m                         Traceback (most recent call last)",
      "\u001B[36mCell\u001B[39m\u001B[36m \u001B[39m\u001B[32mIn[6]\u001B[39m\u001B[32m, line 2\u001B[39m\n\u001B[32m      1\u001B[39m \u001B[38;5;66;03m# load in dataframe from file\u001B[39;00m\n\u001B[32m----> \u001B[39m\u001B[32m2\u001B[39m df0 = \u001B[43maccess_log_to_df\u001B[49m\u001B[43m(\u001B[49m\u001B[33;43m\"\u001B[39;49m\u001B[33;43m../access_logs/access_log\u001B[39;49m\u001B[33;43m\"\u001B[39;49m\u001B[43m)\u001B[49m\n\u001B[32m      4\u001B[39m \u001B[38;5;66;03m# Get all unique dates\u001B[39;00m\n\u001B[32m      5\u001B[39m dates = \u001B[38;5;28mset\u001B[39m(df0[\u001B[33m'\u001B[39m\u001B[33mdate\u001B[39m\u001B[33m'\u001B[39m])\n",
      "\u001B[36mFile \u001B[39m\u001B[32m~\\OneDrive\\Documents\\measure protocol\\data-analytics\\data_proc.py:18\u001B[39m, in \u001B[36maccess_log_to_df\u001B[39m\u001B[34m(path)\u001B[39m\n\u001B[32m     16\u001B[39m     \u001B[38;5;28;01mfor\u001B[39;00m line \u001B[38;5;129;01min\u001B[39;00m f:\n\u001B[32m     17\u001B[39m         df.loc[-\u001B[32m1\u001B[39m] = read_access_log_entry(line)\n\u001B[32m---> \u001B[39m\u001B[32m18\u001B[39m         df.index = df.index + \u001B[32m1\u001B[39m\n\u001B[32m     19\u001B[39m         df = df.sort_index()\n\u001B[32m     20\u001B[39m \u001B[38;5;28;01mreturn\u001B[39;00m df\n",
      "\u001B[36mFile \u001B[39m\u001B[32m~\\OneDrive\\Documents\\measure protocol\\data-analytics\\.venv\\Lib\\site-packages\\pandas\\core\\indexing.py:911\u001B[39m, in \u001B[36m_LocationIndexer.__setitem__\u001B[39m\u001B[34m(self, key, value)\u001B[39m\n\u001B[32m    908\u001B[39m \u001B[38;5;28mself\u001B[39m._has_valid_setitem_indexer(key)\n\u001B[32m    910\u001B[39m iloc = \u001B[38;5;28mself\u001B[39m \u001B[38;5;28;01mif\u001B[39;00m \u001B[38;5;28mself\u001B[39m.name == \u001B[33m\"\u001B[39m\u001B[33miloc\u001B[39m\u001B[33m\"\u001B[39m \u001B[38;5;28;01melse\u001B[39;00m \u001B[38;5;28mself\u001B[39m.obj.iloc\n\u001B[32m--> \u001B[39m\u001B[32m911\u001B[39m \u001B[43miloc\u001B[49m\u001B[43m.\u001B[49m\u001B[43m_setitem_with_indexer\u001B[49m\u001B[43m(\u001B[49m\u001B[43mindexer\u001B[49m\u001B[43m,\u001B[49m\u001B[43m \u001B[49m\u001B[43mvalue\u001B[49m\u001B[43m,\u001B[49m\u001B[43m \u001B[49m\u001B[38;5;28;43mself\u001B[39;49m\u001B[43m.\u001B[49m\u001B[43mname\u001B[49m\u001B[43m)\u001B[49m\n",
      "\u001B[36mFile \u001B[39m\u001B[32m~\\OneDrive\\Documents\\measure protocol\\data-analytics\\.venv\\Lib\\site-packages\\pandas\\core\\indexing.py:1932\u001B[39m, in \u001B[36m_iLocIndexer._setitem_with_indexer\u001B[39m\u001B[34m(self, indexer, value, name)\u001B[39m\n\u001B[32m   1929\u001B[39m     indexer, missing = convert_missing_indexer(indexer)\n\u001B[32m   1931\u001B[39m     \u001B[38;5;28;01mif\u001B[39;00m missing:\n\u001B[32m-> \u001B[39m\u001B[32m1932\u001B[39m         \u001B[38;5;28;43mself\u001B[39;49m\u001B[43m.\u001B[49m\u001B[43m_setitem_with_indexer_missing\u001B[49m\u001B[43m(\u001B[49m\u001B[43mindexer\u001B[49m\u001B[43m,\u001B[49m\u001B[43m \u001B[49m\u001B[43mvalue\u001B[49m\u001B[43m)\u001B[49m\n\u001B[32m   1933\u001B[39m         \u001B[38;5;28;01mreturn\u001B[39;00m\n\u001B[32m   1935\u001B[39m \u001B[38;5;28;01mif\u001B[39;00m name == \u001B[33m\"\u001B[39m\u001B[33mloc\u001B[39m\u001B[33m\"\u001B[39m:\n\u001B[32m   1936\u001B[39m     \u001B[38;5;66;03m# must come after setting of missing\u001B[39;00m\n",
      "\u001B[36mFile \u001B[39m\u001B[32m~\\OneDrive\\Documents\\measure protocol\\data-analytics\\.venv\\Lib\\site-packages\\pandas\\core\\indexing.py:2328\u001B[39m, in \u001B[36m_iLocIndexer._setitem_with_indexer_missing\u001B[39m\u001B[34m(self, indexer, value)\u001B[39m\n\u001B[32m   2326\u001B[39m     \u001B[38;5;28mself\u001B[39m.obj._mgr = df._mgr\n\u001B[32m   2327\u001B[39m \u001B[38;5;28;01melse\u001B[39;00m:\n\u001B[32m-> \u001B[39m\u001B[32m2328\u001B[39m     \u001B[38;5;28mself\u001B[39m.obj._mgr = \u001B[38;5;28;43mself\u001B[39;49m\u001B[43m.\u001B[49m\u001B[43mobj\u001B[49m\u001B[43m.\u001B[49m\u001B[43m_append\u001B[49m\u001B[43m(\u001B[49m\u001B[43mvalue\u001B[49m\u001B[43m)\u001B[49m._mgr\n\u001B[32m   2329\u001B[39m \u001B[38;5;28mself\u001B[39m.obj._maybe_update_cacher(clear=\u001B[38;5;28;01mTrue\u001B[39;00m)\n",
      "\u001B[36mFile \u001B[39m\u001B[32m~\\OneDrive\\Documents\\measure protocol\\data-analytics\\.venv\\Lib\\site-packages\\pandas\\core\\frame.py:10579\u001B[39m, in \u001B[36mDataFrame._append\u001B[39m\u001B[34m(self, other, ignore_index, verify_integrity, sort)\u001B[39m\n\u001B[32m  10576\u001B[39m \u001B[38;5;28;01melse\u001B[39;00m:\n\u001B[32m  10577\u001B[39m     to_concat = [\u001B[38;5;28mself\u001B[39m, other]\n\u001B[32m> \u001B[39m\u001B[32m10579\u001B[39m result = \u001B[43mconcat\u001B[49m\u001B[43m(\u001B[49m\n\u001B[32m  10580\u001B[39m \u001B[43m    \u001B[49m\u001B[43mto_concat\u001B[49m\u001B[43m,\u001B[49m\n\u001B[32m  10581\u001B[39m \u001B[43m    \u001B[49m\u001B[43mignore_index\u001B[49m\u001B[43m=\u001B[49m\u001B[43mignore_index\u001B[49m\u001B[43m,\u001B[49m\n\u001B[32m  10582\u001B[39m \u001B[43m    \u001B[49m\u001B[43mverify_integrity\u001B[49m\u001B[43m=\u001B[49m\u001B[43mverify_integrity\u001B[49m\u001B[43m,\u001B[49m\n\u001B[32m  10583\u001B[39m \u001B[43m    \u001B[49m\u001B[43msort\u001B[49m\u001B[43m=\u001B[49m\u001B[43msort\u001B[49m\u001B[43m,\u001B[49m\n\u001B[32m  10584\u001B[39m \u001B[43m\u001B[49m\u001B[43m)\u001B[49m\n\u001B[32m  10585\u001B[39m \u001B[38;5;28;01mreturn\u001B[39;00m result.__finalize__(\u001B[38;5;28mself\u001B[39m, method=\u001B[33m\"\u001B[39m\u001B[33mappend\u001B[39m\u001B[33m\"\u001B[39m)\n",
      "\u001B[36mFile \u001B[39m\u001B[32m~\\OneDrive\\Documents\\measure protocol\\data-analytics\\.venv\\Lib\\site-packages\\pandas\\core\\reshape\\concat.py:395\u001B[39m, in \u001B[36mconcat\u001B[39m\u001B[34m(objs, axis, join, ignore_index, keys, levels, names, verify_integrity, sort, copy)\u001B[39m\n\u001B[32m    380\u001B[39m     copy = \u001B[38;5;28;01mFalse\u001B[39;00m\n\u001B[32m    382\u001B[39m op = _Concatenator(\n\u001B[32m    383\u001B[39m     objs,\n\u001B[32m    384\u001B[39m     axis=axis,\n\u001B[32m   (...)\u001B[39m\u001B[32m    392\u001B[39m     sort=sort,\n\u001B[32m    393\u001B[39m )\n\u001B[32m--> \u001B[39m\u001B[32m395\u001B[39m \u001B[38;5;28;01mreturn\u001B[39;00m \u001B[43mop\u001B[49m\u001B[43m.\u001B[49m\u001B[43mget_result\u001B[49m\u001B[43m(\u001B[49m\u001B[43m)\u001B[49m\n",
      "\u001B[36mFile \u001B[39m\u001B[32m~\\OneDrive\\Documents\\measure protocol\\data-analytics\\.venv\\Lib\\site-packages\\pandas\\core\\reshape\\concat.py:671\u001B[39m, in \u001B[36m_Concatenator.get_result\u001B[39m\u001B[34m(self)\u001B[39m\n\u001B[32m    669\u001B[39m \u001B[38;5;28;01mfor\u001B[39;00m obj \u001B[38;5;129;01min\u001B[39;00m \u001B[38;5;28mself\u001B[39m.objs:\n\u001B[32m    670\u001B[39m     indexers = {}\n\u001B[32m--> \u001B[39m\u001B[32m671\u001B[39m     \u001B[38;5;28;01mfor\u001B[39;00m ax, new_labels \u001B[38;5;129;01min\u001B[39;00m \u001B[38;5;28menumerate\u001B[39m(\u001B[38;5;28;43mself\u001B[39;49m\u001B[43m.\u001B[49m\u001B[43mnew_axes\u001B[49m):\n\u001B[32m    672\u001B[39m         \u001B[38;5;66;03m# ::-1 to convert BlockManager ax to DataFrame ax\u001B[39;00m\n\u001B[32m    673\u001B[39m         \u001B[38;5;28;01mif\u001B[39;00m ax == \u001B[38;5;28mself\u001B[39m.bm_axis:\n\u001B[32m    674\u001B[39m             \u001B[38;5;66;03m# Suppress reindexing on concat axis\u001B[39;00m\n\u001B[32m    675\u001B[39m             \u001B[38;5;28;01mcontinue\u001B[39;00m\n",
      "\u001B[36mFile \u001B[39m\u001B[32mpandas/_libs/properties.pyx:36\u001B[39m, in \u001B[36mpandas._libs.properties.CachedProperty.__get__\u001B[39m\u001B[34m()\u001B[39m\n",
      "\u001B[36mFile \u001B[39m\u001B[32m~\\OneDrive\\Documents\\measure protocol\\data-analytics\\.venv\\Lib\\site-packages\\pandas\\core\\reshape\\concat.py:702\u001B[39m, in \u001B[36m_Concatenator.new_axes\u001B[39m\u001B[34m(self)\u001B[39m\n\u001B[32m    699\u001B[39m \u001B[38;5;129m@cache_readonly\u001B[39m\n\u001B[32m    700\u001B[39m \u001B[38;5;28;01mdef\u001B[39;00m\u001B[38;5;250m \u001B[39m\u001B[34mnew_axes\u001B[39m(\u001B[38;5;28mself\u001B[39m) -> \u001B[38;5;28mlist\u001B[39m[Index]:\n\u001B[32m    701\u001B[39m     ndim = \u001B[38;5;28mself\u001B[39m._get_result_dim()\n\u001B[32m--> \u001B[39m\u001B[32m702\u001B[39m     \u001B[38;5;28;01mreturn\u001B[39;00m \u001B[43m[\u001B[49m\n\u001B[32m    703\u001B[39m \u001B[43m        \u001B[49m\u001B[38;5;28;43mself\u001B[39;49m\u001B[43m.\u001B[49m\u001B[43m_get_concat_axis\u001B[49m\u001B[43m \u001B[49m\u001B[38;5;28;43;01mif\u001B[39;49;00m\u001B[43m \u001B[49m\u001B[43mi\u001B[49m\u001B[43m \u001B[49m\u001B[43m==\u001B[49m\u001B[43m \u001B[49m\u001B[38;5;28;43mself\u001B[39;49m\u001B[43m.\u001B[49m\u001B[43mbm_axis\u001B[49m\u001B[43m \u001B[49m\u001B[38;5;28;43;01melse\u001B[39;49;00m\u001B[43m \u001B[49m\u001B[38;5;28;43mself\u001B[39;49m\u001B[43m.\u001B[49m\u001B[43m_get_comb_axis\u001B[49m\u001B[43m(\u001B[49m\u001B[43mi\u001B[49m\u001B[43m)\u001B[49m\n\u001B[32m    704\u001B[39m \u001B[43m        \u001B[49m\u001B[38;5;28;43;01mfor\u001B[39;49;00m\u001B[43m \u001B[49m\u001B[43mi\u001B[49m\u001B[43m \u001B[49m\u001B[38;5;129;43;01min\u001B[39;49;00m\u001B[43m \u001B[49m\u001B[38;5;28;43mrange\u001B[39;49m\u001B[43m(\u001B[49m\u001B[43mndim\u001B[49m\u001B[43m)\u001B[49m\n\u001B[32m    705\u001B[39m \u001B[43m    \u001B[49m\u001B[43m]\u001B[49m\n",
      "\u001B[36mFile \u001B[39m\u001B[32m~\\OneDrive\\Documents\\measure protocol\\data-analytics\\.venv\\Lib\\site-packages\\pandas\\core\\reshape\\concat.py:703\u001B[39m, in \u001B[36m<listcomp>\u001B[39m\u001B[34m(.0)\u001B[39m\n\u001B[32m    699\u001B[39m \u001B[38;5;129m@cache_readonly\u001B[39m\n\u001B[32m    700\u001B[39m \u001B[38;5;28;01mdef\u001B[39;00m\u001B[38;5;250m \u001B[39m\u001B[34mnew_axes\u001B[39m(\u001B[38;5;28mself\u001B[39m) -> \u001B[38;5;28mlist\u001B[39m[Index]:\n\u001B[32m    701\u001B[39m     ndim = \u001B[38;5;28mself\u001B[39m._get_result_dim()\n\u001B[32m    702\u001B[39m     \u001B[38;5;28;01mreturn\u001B[39;00m [\n\u001B[32m--> \u001B[39m\u001B[32m703\u001B[39m         \u001B[38;5;28;43mself\u001B[39;49m\u001B[43m.\u001B[49m\u001B[43m_get_concat_axis\u001B[49m \u001B[38;5;28;01mif\u001B[39;00m i == \u001B[38;5;28mself\u001B[39m.bm_axis \u001B[38;5;28;01melse\u001B[39;00m \u001B[38;5;28mself\u001B[39m._get_comb_axis(i)\n\u001B[32m    704\u001B[39m         \u001B[38;5;28;01mfor\u001B[39;00m i \u001B[38;5;129;01min\u001B[39;00m \u001B[38;5;28mrange\u001B[39m(ndim)\n\u001B[32m    705\u001B[39m     ]\n",
      "\u001B[36mFile \u001B[39m\u001B[32mpandas/_libs/properties.pyx:36\u001B[39m, in \u001B[36mpandas._libs.properties.CachedProperty.__get__\u001B[39m\u001B[34m()\u001B[39m\n",
      "\u001B[36mFile \u001B[39m\u001B[32m~\\OneDrive\\Documents\\measure protocol\\data-analytics\\.venv\\Lib\\site-packages\\pandas\\core\\reshape\\concat.py:760\u001B[39m, in \u001B[36m_Concatenator._get_concat_axis\u001B[39m\u001B[34m(self)\u001B[39m\n\u001B[32m    758\u001B[39m     \u001B[38;5;28;01mif\u001B[39;00m \u001B[38;5;28mself\u001B[39m.levels \u001B[38;5;129;01mis\u001B[39;00m \u001B[38;5;129;01mnot\u001B[39;00m \u001B[38;5;28;01mNone\u001B[39;00m:\n\u001B[32m    759\u001B[39m         \u001B[38;5;28;01mraise\u001B[39;00m \u001B[38;5;167;01mValueError\u001B[39;00m(\u001B[33m\"\u001B[39m\u001B[33mlevels supported only when keys is not None\u001B[39m\u001B[33m\"\u001B[39m)\n\u001B[32m--> \u001B[39m\u001B[32m760\u001B[39m     concat_axis = \u001B[43m_concat_indexes\u001B[49m\u001B[43m(\u001B[49m\u001B[43mindexes\u001B[49m\u001B[43m)\u001B[49m\n\u001B[32m    761\u001B[39m \u001B[38;5;28;01melse\u001B[39;00m:\n\u001B[32m    762\u001B[39m     concat_axis = _make_concat_multiindex(\n\u001B[32m    763\u001B[39m         indexes, \u001B[38;5;28mself\u001B[39m.keys, \u001B[38;5;28mself\u001B[39m.levels, \u001B[38;5;28mself\u001B[39m.names\n\u001B[32m    764\u001B[39m     )\n",
      "\u001B[36mFile \u001B[39m\u001B[32m~\\OneDrive\\Documents\\measure protocol\\data-analytics\\.venv\\Lib\\site-packages\\pandas\\core\\reshape\\concat.py:778\u001B[39m, in \u001B[36m_concat_indexes\u001B[39m\u001B[34m(indexes)\u001B[39m\n\u001B[32m    777\u001B[39m \u001B[38;5;28;01mdef\u001B[39;00m\u001B[38;5;250m \u001B[39m\u001B[34m_concat_indexes\u001B[39m(indexes) -> Index:\n\u001B[32m--> \u001B[39m\u001B[32m778\u001B[39m     \u001B[38;5;28;01mreturn\u001B[39;00m \u001B[43mindexes\u001B[49m\u001B[43m[\u001B[49m\u001B[32;43m0\u001B[39;49m\u001B[43m]\u001B[49m\u001B[43m.\u001B[49m\u001B[43mappend\u001B[49m\u001B[43m(\u001B[49m\u001B[43mindexes\u001B[49m\u001B[43m[\u001B[49m\u001B[32;43m1\u001B[39;49m\u001B[43m:\u001B[49m\u001B[43m]\u001B[49m\u001B[43m)\u001B[49m\n",
      "\u001B[36mFile \u001B[39m\u001B[32m~\\OneDrive\\Documents\\measure protocol\\data-analytics\\.venv\\Lib\\site-packages\\pandas\\core\\indexes\\base.py:5501\u001B[39m, in \u001B[36mIndex.append\u001B[39m\u001B[34m(self, other)\u001B[39m\n\u001B[32m   5498\u001B[39m names = {obj.name \u001B[38;5;28;01mfor\u001B[39;00m obj \u001B[38;5;129;01min\u001B[39;00m to_concat}\n\u001B[32m   5499\u001B[39m name = \u001B[38;5;28;01mNone\u001B[39;00m \u001B[38;5;28;01mif\u001B[39;00m \u001B[38;5;28mlen\u001B[39m(names) > \u001B[32m1\u001B[39m \u001B[38;5;28;01melse\u001B[39;00m \u001B[38;5;28mself\u001B[39m.name\n\u001B[32m-> \u001B[39m\u001B[32m5501\u001B[39m \u001B[38;5;28;01mreturn\u001B[39;00m \u001B[38;5;28;43mself\u001B[39;49m\u001B[43m.\u001B[49m\u001B[43m_concat\u001B[49m\u001B[43m(\u001B[49m\u001B[43mto_concat\u001B[49m\u001B[43m,\u001B[49m\u001B[43m \u001B[49m\u001B[43mname\u001B[49m\u001B[43m)\u001B[49m\n",
      "\u001B[36mFile \u001B[39m\u001B[32m~\\OneDrive\\Documents\\measure protocol\\data-analytics\\.venv\\Lib\\site-packages\\pandas\\core\\indexes\\base.py:5509\u001B[39m, in \u001B[36mIndex._concat\u001B[39m\u001B[34m(self, to_concat, name)\u001B[39m\n\u001B[32m   5504\u001B[39m \u001B[38;5;250m\u001B[39m\u001B[33;03m\"\"\"\u001B[39;00m\n\u001B[32m   5505\u001B[39m \u001B[33;03mConcatenate multiple Index objects.\u001B[39;00m\n\u001B[32m   5506\u001B[39m \u001B[33;03m\"\"\"\u001B[39;00m\n\u001B[32m   5507\u001B[39m to_concat_vals = [x._values \u001B[38;5;28;01mfor\u001B[39;00m x \u001B[38;5;129;01min\u001B[39;00m to_concat]\n\u001B[32m-> \u001B[39m\u001B[32m5509\u001B[39m result = \u001B[43mconcat_compat\u001B[49m\u001B[43m(\u001B[49m\u001B[43mto_concat_vals\u001B[49m\u001B[43m)\u001B[49m\n\u001B[32m   5511\u001B[39m \u001B[38;5;28;01mreturn\u001B[39;00m Index._with_infer(result, name=name)\n",
      "\u001B[36mFile \u001B[39m\u001B[32m~\\OneDrive\\Documents\\measure protocol\\data-analytics\\.venv\\Lib\\site-packages\\pandas\\core\\dtypes\\concat.py:78\u001B[39m, in \u001B[36mconcat_compat\u001B[39m\u001B[34m(to_concat, axis, ea_compat_axis)\u001B[39m\n\u001B[32m     76\u001B[39m \u001B[38;5;28;01mif\u001B[39;00m \u001B[38;5;28misinstance\u001B[39m(obj, np.ndarray):\n\u001B[32m     77\u001B[39m     to_concat_arrs = cast(\u001B[33m\"\u001B[39m\u001B[33mSequence[np.ndarray]\u001B[39m\u001B[33m\"\u001B[39m, to_concat)\n\u001B[32m---> \u001B[39m\u001B[32m78\u001B[39m     \u001B[38;5;28;01mreturn\u001B[39;00m \u001B[43mnp\u001B[49m\u001B[43m.\u001B[49m\u001B[43mconcatenate\u001B[49m\u001B[43m(\u001B[49m\u001B[43mto_concat_arrs\u001B[49m\u001B[43m,\u001B[49m\u001B[43m \u001B[49m\u001B[43maxis\u001B[49m\u001B[43m=\u001B[49m\u001B[43maxis\u001B[49m\u001B[43m)\u001B[49m\n\u001B[32m     80\u001B[39m to_concat_eas = cast(\u001B[33m\"\u001B[39m\u001B[33mSequence[ExtensionArray]\u001B[39m\u001B[33m\"\u001B[39m, to_concat)\n\u001B[32m     81\u001B[39m \u001B[38;5;28;01mif\u001B[39;00m ea_compat_axis:\n\u001B[32m     82\u001B[39m     \u001B[38;5;66;03m# We have 1D objects, that don't support axis keyword\u001B[39;00m\n",
      "\u001B[31mKeyboardInterrupt\u001B[39m: "
     ]
    }
   ],
   "execution_count": 6
  },
  {
   "metadata": {},
   "cell_type": "code",
   "outputs": [],
   "execution_count": null,
   "source": "",
   "id": "2118a200290de718"
  }
 ],
 "metadata": {
  "kernelspec": {
   "display_name": "Python 3",
   "language": "python",
   "name": "python3"
  },
  "language_info": {
   "codemirror_mode": {
    "name": "ipython",
    "version": 2
   },
   "file_extension": ".py",
   "mimetype": "text/x-python",
   "name": "python",
   "nbconvert_exporter": "python",
   "pygments_lexer": "ipython2",
   "version": "2.7.6"
  }
 },
 "nbformat": 4,
 "nbformat_minor": 5
}
