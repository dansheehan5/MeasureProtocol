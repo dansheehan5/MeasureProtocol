{
 "cells": [
  {
   "cell_type": "code",
   "id": "initial_id",
   "metadata": {
    "collapsed": true,
    "ExecuteTime": {
     "end_time": "2025-07-10T15:48:59.425342Z",
     "start_time": "2025-07-10T15:48:59.421423Z"
    }
   },
   "source": [
    "import pandas as pd\n",
    "import polars as pl\n",
    "import plotly.graph_objects as g\n",
    "import numpy as np\n",
    "from pygments.lexers import go\n",
    "\n",
    "from data_proc import access_log_to_df"
   ],
   "outputs": [],
   "execution_count": 89
  },
  {
   "metadata": {
    "ExecuteTime": {
     "end_time": "2025-07-09T18:57:37.597599Z",
     "start_time": "2025-07-09T18:53:20.216318Z"
    }
   },
   "cell_type": "code",
   "source": [
    "# load in dataframe from file\n",
    "print(\"loading log 1...\")\n",
    "df = access_log_to_df(\"../access_logs/access_log\")\n",
    "print(\"done\")\n",
    "print(\"loading log 2...\")\n",
    "df = pl.concat([df, access_log_to_df(\"../access_logs/access_log-20250608\")], how=\"vertical\")\n",
    "print(\"done\")\n",
    "print(\"loading log 3...\")\n",
    "df = pl.concat([df, access_log_to_df(\"../access_logs/access_log-20250608\")], how=\"vertical\")\n",
    "print(\"done\")\n",
    "print(\"loading log 4...\")\n",
    "df = pl.concat([df, access_log_to_df(\"../access_logs/access_log-20250608\")], how=\"vertical\")\n",
    "print(\"done\")\n",
    "\n",
    "# Get all unique dates\n",
    "dates = set(df['date'])\n",
    "ips = set(df['ip'])"
   ],
   "id": "35603d9e29dd78e0",
   "outputs": [
    {
     "name": "stdout",
     "output_type": "stream",
     "text": [
      "loading log 1...\n",
      "done\n",
      "loading log 2...\n",
      "done\n",
      "loading log 3...\n",
      "done\n",
      "loading log 4...\n",
      "done\n"
     ]
    }
   ],
   "execution_count": 12
  },
  {
   "metadata": {
    "ExecuteTime": {
     "end_time": "2025-07-10T14:59:42.455616Z",
     "start_time": "2025-07-10T14:58:47.079581Z"
    }
   },
   "cell_type": "code",
   "source": [
    "# Count the # of times an IP has been accessed on a date\n",
    "ip_access_by_date = {}\n",
    "for date in dates:\n",
    "\n",
    "    # Add new date to the dict\n",
    "    if ip_access_by_date.get(date) is None:\n",
    "        ip_access_by_date.update({date: {}})\n",
    "\n",
    "    d = ip_access_by_date[date]\n",
    "\n",
    "    entries = df.filter(pl.col(\"date\") == date)\n",
    "\n",
    "    for entry in entries[:, \"ip\"]:\n",
    "        if entry not in d:\n",
    "            d.update({entry: 0})\n",
    "\n",
    "        d.update({entry: d[entry] + 1})\n",
    "\n",
    "    ip_access_by_date.update({date: d})"
   ],
   "id": "2118a200290de718",
   "outputs": [],
   "execution_count": 53
  },
  {
   "metadata": {
    "ExecuteTime": {
     "end_time": "2025-07-10T15:51:35.337277Z",
     "start_time": "2025-07-10T15:51:34.627088Z"
    }
   },
   "cell_type": "code",
   "source": [
    "# 1 chart for each date\n",
    "for date in dates:\n",
    "    access_df = pd.DataFrame.from_dict({\"ips\": ip_access_by_date[date].keys(),\n",
    "                                        \"accesses\": ip_access_by_date[date].values()})\n",
    "    access_df.sort_values(by=[\"accesses\"], inplace=True)\n",
    "    fig = g.Figure()\n",
    "    fig.update_layout(yaxis_type=\"log\")\n",
    "    fig.add_trace(g.Scatter(x=access_df[\"ips\"], y=access_df[\"accesses\"], mode=\"lines\"))\n",
    "    fig.write_html(f\"./access_by_date_plots/{date.replace(\"/\", \"-\")}.html\")\n",
    "\n",
    "\n"
   ],
   "id": "2532a571da902576",
   "outputs": [],
   "execution_count": 90
  }
 ],
 "metadata": {
  "kernelspec": {
   "display_name": "Python 3",
   "language": "python",
   "name": "python3"
  },
  "language_info": {
   "codemirror_mode": {
    "name": "ipython",
    "version": 2
   },
   "file_extension": ".py",
   "mimetype": "text/x-python",
   "name": "python",
   "nbconvert_exporter": "python",
   "pygments_lexer": "ipython2",
   "version": "2.7.6"
  }
 },
 "nbformat": 4,
 "nbformat_minor": 5
}
