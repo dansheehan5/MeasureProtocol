{
 "cells": [
  {
   "cell_type": "code",
   "id": "initial_id",
   "metadata": {
    "collapsed": true,
    "ExecuteTime": {
     "end_time": "2025-07-08T19:33:49.965353Z",
     "start_time": "2025-07-08T19:32:28.464045Z"
    }
   },
   "source": [
    "import polars as pl\n",
    "import matplotlib.pyplot as plt\n",
    "import numpy as np\n",
    "\n",
    "from data_proc import access_log_to_df"
   ],
   "outputs": [
    {
     "name": "stdout",
     "output_type": "stream",
     "text": [
      "loaded\n",
      "{'25/Jun/2025', '23/Jun/2025', '22/Jun/2025', '24/Jun/2025', '26/Jun/2025'}\n"
     ]
    }
   ],
   "execution_count": 1
  },
  {
   "metadata": {
    "ExecuteTime": {
     "end_time": "2025-07-08T19:38:17.929375Z",
     "start_time": "2025-07-08T19:38:13.452765Z"
    }
   },
   "cell_type": "code",
   "source": [
    "# load in dataframe from file\n",
    "df0 = access_log_to_df(\"../access_logs/access_log\")\n",
    "\n",
    "# Get all unique dates\n",
    "dates = set(df0['date'])\n",
    "\n",
    "# Count the # of times an IP has been accessed on a date\n"
   ],
   "id": "35603d9e29dd78e0",
   "outputs": [
    {
     "ename": "KeyboardInterrupt",
     "evalue": "",
     "output_type": "error",
     "traceback": [
      "\u001B[31m---------------------------------------------------------------------------\u001B[39m",
      "\u001B[31mKeyboardInterrupt\u001B[39m                         Traceback (most recent call last)",
      "\u001B[36mCell\u001B[39m\u001B[36m \u001B[39m\u001B[32mIn[4]\u001B[39m\u001B[32m, line 2\u001B[39m\n\u001B[32m      1\u001B[39m \u001B[38;5;66;03m# load in dataframe from file\u001B[39;00m\n\u001B[32m----> \u001B[39m\u001B[32m2\u001B[39m df0 = \u001B[43maccess_log_to_df\u001B[49m\u001B[43m(\u001B[49m\u001B[33;43m\"\u001B[39;49m\u001B[33;43m../access_logs/access_log\u001B[39;49m\u001B[33;43m\"\u001B[39;49m\u001B[43m)\u001B[49m\n\u001B[32m      4\u001B[39m \u001B[38;5;66;03m# Get all unique dates\u001B[39;00m\n\u001B[32m      5\u001B[39m dates = \u001B[38;5;28mset\u001B[39m(df0[\u001B[33m'\u001B[39m\u001B[33mdate\u001B[39m\u001B[33m'\u001B[39m])\n",
      "\u001B[36mFile \u001B[39m\u001B[32m~\\Documents\\MeasureProtocol\\data-analytics\\data_proc.py:12\u001B[39m, in \u001B[36maccess_log_to_df\u001B[39m\u001B[34m(path)\u001B[39m\n\u001B[32m     10\u001B[39m \u001B[38;5;28;01mwith\u001B[39;00m \u001B[38;5;28mopen\u001B[39m(path, \u001B[33m'\u001B[39m\u001B[33mr\u001B[39m\u001B[33m'\u001B[39m) \u001B[38;5;28;01mas\u001B[39;00m f:\n\u001B[32m     11\u001B[39m     i = \u001B[32m0\u001B[39m\n\u001B[32m---> \u001B[39m\u001B[32m12\u001B[39m \u001B[43m    \u001B[49m\u001B[38;5;28;43;01mfor\u001B[39;49;00m\u001B[43m \u001B[49m\u001B[43mline\u001B[49m\u001B[43m \u001B[49m\u001B[38;5;129;43;01min\u001B[39;49;00m\u001B[43m \u001B[49m\u001B[43mf\u001B[49m\u001B[43m:\u001B[49m\n\u001B[32m     13\u001B[39m \u001B[43m        \u001B[49m\u001B[43mdata\u001B[49m\u001B[43m.\u001B[49m\u001B[43mappend\u001B[49m\u001B[43m(\u001B[49m\u001B[43mread_access_log_entry\u001B[49m\u001B[43m(\u001B[49m\u001B[43mline\u001B[49m\u001B[43m)\u001B[49m\u001B[43m)\u001B[49m\n\u001B[32m     15\u001B[39m df = pl.DataFrame(data, schema=[\u001B[33m'\u001B[39m\u001B[33mip\u001B[39m\u001B[33m'\u001B[39m,\n\u001B[32m     16\u001B[39m                           \u001B[33m'\u001B[39m\u001B[33mdate\u001B[39m\u001B[33m'\u001B[39m,\n\u001B[32m     17\u001B[39m                           \u001B[33m'\u001B[39m\u001B[33mtime\u001B[39m\u001B[33m'\u001B[39m,\n\u001B[32m   (...)\u001B[39m\u001B[32m     23\u001B[39m                           \u001B[33m'\u001B[39m\u001B[33muser_agent\u001B[39m\u001B[33m'\u001B[39m,\n\u001B[32m     24\u001B[39m                           \u001B[33m'\u001B[39m\u001B[33mfinal_code\u001B[39m\u001B[33m'\u001B[39m])\n",
      "\u001B[36mFile \u001B[39m\u001B[32m~\\AppData\\Local\\Programs\\Python\\Python312\\Lib\\encodings\\cp1252.py:22\u001B[39m, in \u001B[36mIncrementalDecoder.decode\u001B[39m\u001B[34m(self, input, final)\u001B[39m\n\u001B[32m     21\u001B[39m \u001B[38;5;28;01mclass\u001B[39;00m\u001B[38;5;250m \u001B[39m\u001B[34;01mIncrementalDecoder\u001B[39;00m(codecs.IncrementalDecoder):\n\u001B[32m---> \u001B[39m\u001B[32m22\u001B[39m     \u001B[38;5;28;01mdef\u001B[39;00m\u001B[38;5;250m \u001B[39m\u001B[34mdecode\u001B[39m(\u001B[38;5;28mself\u001B[39m, \u001B[38;5;28minput\u001B[39m, final=\u001B[38;5;28;01mFalse\u001B[39;00m):\n\u001B[32m     23\u001B[39m         \u001B[38;5;28;01mreturn\u001B[39;00m codecs.charmap_decode(\u001B[38;5;28minput\u001B[39m,\u001B[38;5;28mself\u001B[39m.errors,decoding_table)[\u001B[32m0\u001B[39m]\n",
      "\u001B[31mKeyboardInterrupt\u001B[39m: "
     ]
    }
   ],
   "execution_count": 4
  },
  {
   "metadata": {},
   "cell_type": "code",
   "outputs": [],
   "execution_count": null,
   "source": "",
   "id": "2118a200290de718"
  }
 ],
 "metadata": {
  "kernelspec": {
   "display_name": "Python 3",
   "language": "python",
   "name": "python3"
  },
  "language_info": {
   "codemirror_mode": {
    "name": "ipython",
    "version": 2
   },
   "file_extension": ".py",
   "mimetype": "text/x-python",
   "name": "python",
   "nbconvert_exporter": "python",
   "pygments_lexer": "ipython2",
   "version": "2.7.6"
  }
 },
 "nbformat": 4,
 "nbformat_minor": 5
}
